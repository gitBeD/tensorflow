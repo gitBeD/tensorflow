{
 "cells": [
  {
   "cell_type": "markdown",
   "metadata": {},
   "source": [
    "# Perceiving Objects in Their Surroundings"
   ]
  },
  {
   "cell_type": "markdown",
   "metadata": {},
   "source": [
    "## Using the Keras RetinaNet code"
   ]
  },
  {
   "cell_type": "code",
   "execution_count": 1,
   "metadata": {
    "colab": {},
    "colab_type": "code",
    "id": "XO2rTOpRNH4F"
   },
   "outputs": [],
   "source": [
    "import os\n",
    "import zipfile\n",
    "import urllib.request\n",
    "import warnings\n",
    "warnings.filterwarnings(\"ignore\")"
   ]
  },
  {
   "cell_type": "code",
   "execution_count": 2,
   "metadata": {
    "colab": {},
    "colab_type": "code",
    "id": "9ZxSh2UkQOX3"
   },
   "outputs": [],
   "source": [
    "url = \"https://github.com/fizyr/\\\n",
    "keras-retinanet/archive/0.5.1.zip\"\n",
    "urllib.request.urlretrieve(url, './'+url.split('/')[-1])\n",
    "\n",
    "zip_ref = zipfile.ZipFile('./0.5.1.zip', 'r')\n",
    "for name in zip_ref.namelist():\n",
    "  zip_ref.extract(name, './')\n",
    "zip_ref.close()"
   ]
  },
  {
   "cell_type": "code",
   "execution_count": null,
   "metadata": {
    "colab": {
     "base_uri": "https://localhost:8080/",
     "height": 836
    },
    "colab_type": "code",
    "id": "ikai24wnNauu",
    "outputId": "b9ee76a9-0439-44e4-befc-1b8fa031ded7"
   },
   "outputs": [
    {
     "name": "stdout",
     "output_type": "stream",
     "text": [
      "running build_ext\n",
      "cythoning keras_retinanet/utils/compute_overlap.pyx to keras_retinanet/utils\\compute_overlap.c\n",
      "building 'keras_retinanet.utils.compute_overlap' extension\n"
     ]
    },
    {
     "name": "stderr",
     "output_type": "stream",
     "text": [
      "C:\\Users\\PC\\anaconda3\\lib\\site-packages\\Cython\\Compiler\\Main.py:369: FutureWarning: Cython directive 'language_level' not set, using 2 for now (Py2). This will change in a later release! File: C:\\Users\\PC\\Wiley_Deep-Learning\\Beispieldateien\\keras-retinanet-0.5.1\\keras_retinanet\\utils\\compute_overlap.pyx\n",
      "  tree = Parsing.p_module(s, pxd, full_module_name)\n",
      "error: Microsoft Visual C++ 14.0 is required. Get it with \"Build Tools for Visual Studio\": https://visualstudio.microsoft.com/downloads/\n"
     ]
    }
   ],
   "source": [
    "os.chdir('./keras-retinanet-0.5.1')\n",
    "!python setup.py build_ext --inplace\n",
    "!pip install ."
   ]
  },
  {
   "cell_type": "code",
   "execution_count": null,
   "metadata": {
    "colab": {
     "base_uri": "https://localhost:8080/",
     "height": 34
    },
    "colab_type": "code",
    "id": "LDJucmG7JfDa",
    "outputId": "2a1e3fae-9b79-4375-a78c-8f5a6f167a6c"
   },
   "outputs": [],
   "source": [
    "os.chdir('../')\n",
    "url = \"https://github.com/fizyr/\\\n",
    "keras-retinanet/releases/download/0.5.1/\\\n",
    "resnet50_coco_best_v2.1.0.h5\"\n",
    "urllib.request.urlretrieve(url, './'+url.split('/')[-1])"
   ]
  },
  {
   "cell_type": "code",
   "execution_count": null,
   "metadata": {
    "colab": {
     "base_uri": "https://localhost:8080/",
     "height": 34
    },
    "colab_type": "code",
    "id": "bQASmqlfS2Iq",
    "outputId": "ca0bac13-3bc4-409b-8140-7b5cb2f017c0"
   },
   "outputs": [],
   "source": [
    "import matplotlib.pyplot as plt\n",
    "import os\n",
    "import numpy as np\n",
    "from collections import defaultdict\n",
    "import keras\n",
    "\n",
    "from keras_retinanet import models\n",
    "from keras_retinanet.utils.image import (read_image_bgr, \n",
    "                          preprocess_image, resize_image)\n",
    "from keras_retinanet.utils.visualization import (draw_box, \n",
    "                                            draw_caption)\n",
    "from keras_retinanet.utils.colors import label_color\n",
    "\n",
    "%matplotlib inline"
   ]
  },
  {
   "cell_type": "code",
   "execution_count": null,
   "metadata": {
    "colab": {},
    "colab_type": "code",
    "id": "nmihGZAMUCKo"
   },
   "outputs": [],
   "source": [
    "model_path = os.path.join('.', 'resnet50_coco_best_v2.1.0.h5')\n",
    "\n",
    "model = models.load_model(model_path, backbone_name='resnet50')\n",
    "\n",
    "labels_to_names = defaultdict(lambda: 'object', \n",
    "                              {0: 'person', 1: 'bicycle', 2: 'car', \n",
    "                               3: 'motorcycle', 4: 'airplane', 5: 'bus', \n",
    "                               6: 'train', 7: 'truck', 8: 'boat', \n",
    "                               9: 'traffic light', 10: 'fire hydrant', \n",
    "                               11: 'stop sign', 12: 'parking meter',\n",
    "                               25: 'umbrella'})"
   ]
  },
  {
   "cell_type": "code",
   "execution_count": null,
   "metadata": {
    "colab": {
     "base_uri": "https://localhost:8080/",
     "height": 51
    },
    "colab_type": "code",
    "id": "etJ5omUaRdRh",
    "outputId": "73f46d76-0be4-4ad2-b27d-296544e0c784"
   },
   "outputs": [],
   "source": [
    "url = \"https://upload.wikimedia.org/wikipedia/commons/\\\n",
    "thumb/f/f8/Woman_with_blue_parasol_at_intersection.png/\\\n",
    "640px-Woman_with_blue_parasol_at_intersection.png\"\n",
    "urllib.request.urlretrieve(url, './'+url.split('/')[-1])"
   ]
  },
  {
   "cell_type": "code",
   "execution_count": null,
   "metadata": {
    "colab": {
     "base_uri": "https://localhost:8080/",
     "height": 378
    },
    "colab_type": "code",
    "id": "vcFyw9khbPtc",
    "outputId": "fd18ae3a-15cf-49ea-868b-ec37b78a4a17"
   },
   "outputs": [],
   "source": [
    "image = read_image_bgr('640px-Woman_with_blue_parasol_at_intersection.png')\n",
    "draw = image.copy()\n",
    "draw[:,:,0], draw[:,:,2] = image[:,:,2], image[:,:,0]\n",
    "\n",
    "image = preprocess_image(image)\n",
    "image, scale = resize_image(image)\n",
    "\n",
    "boxes, scores, labels = model.predict_on_batch(np.expand_dims(image, axis=0))\n",
    "boxes /= scale\n",
    "\n",
    "for box, score, label in zip(boxes[0], scores[0], labels[0]):\n",
    "    if score > 0.5:      \n",
    "      color = label_color(label)\n",
    "      b = box.astype(int)\n",
    "      draw_box(draw, b, color=color)\n",
    "      caption = \"{} {:.3f}\".format(labels_to_names[label], score)\n",
    "      draw_caption(draw, b, caption.upper())\n",
    "    \n",
    "plt.figure(figsize=(12, 6))\n",
    "plt.axis('off')\n",
    "plt.imshow(draw)\n",
    "plt.show()"
   ]
  }
 ],
 "metadata": {
  "accelerator": "GPU",
  "colab": {
   "collapsed_sections": [],
   "name": "object_detection_with_keras-retinanet.ipynb",
   "provenance": [],
   "version": "0.3.2"
  },
  "kernelspec": {
   "display_name": "Python 3",
   "language": "python",
   "name": "python3"
  },
  "language_info": {
   "codemirror_mode": {
    "name": "ipython",
    "version": 3
   },
   "file_extension": ".py",
   "mimetype": "text/x-python",
   "name": "python",
   "nbconvert_exporter": "python",
   "pygments_lexer": "ipython3",
   "version": "3.7.6"
  }
 },
 "nbformat": 4,
 "nbformat_minor": 1
}
